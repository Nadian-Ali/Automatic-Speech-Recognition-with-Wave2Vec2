{
 "cells": [
  {
   "cell_type": "code",
   "execution_count": null,
   "id": "eea8c42e",
   "metadata": {},
   "outputs": [],
   "source": [
    "import json"
   ]
  },
  {
   "cell_type": "code",
   "execution_count": null,
   "id": "b7639af0",
   "metadata": {},
   "outputs": [],
   "source": [
    "#secrets\n",
    "data ={'aws_access_key_id' : 'this is the key','aws_secret_access_key' : 'this is the key',  \n",
    "}"
   ]
  },
  {
   "cell_type": "code",
   "execution_count": null,
   "id": "8aa0c662",
   "metadata": {},
   "outputs": [],
   "source": [
    "import boto3\n",
    "\n",
    "s3 = boto3.client(\n",
    "service_name='s3',\n",
    "region_name='eu-west-1',\n",
    "aws_access_key_id= data['aws_access_key_id'],\n",
    "aws_secret_access_key= data['aws_secret_access_key'] )"
   ]
  },
  {
   "cell_type": "code",
   "execution_count": null,
   "id": "0b33657e",
   "metadata": {},
   "outputs": [],
   "source": [
    "s3 = boto3.resource(\n",
    "service_name='s3',\n",
    "region_name='eu-west-1',\n",
    "aws_access_key_id= data['aws_access_key_id'],\n",
    "aws_secret_access_key= data['aws_secret_access_key'] )\n",
    "\n"
   ]
  },
  {
   "cell_type": "code",
   "execution_count": null,
   "id": "68a7d1f3",
   "metadata": {},
   "outputs": [],
   "source": [
    "s3.Object('commonvoicesdataset','vocab.json').put(Body ='vocab.json')"
   ]
  },
  {
   "cell_type": "code",
   "execution_count": null,
   "id": "adc89b57",
   "metadata": {},
   "outputs": [],
   "source": [
    "BUCKET = 'commonvoicesdataset'\n",
    "FILE_TO_READ = 'vocab.json'\n",
    "object1 = s3resource.Object(BUCKET,FILE_TO_READ)\n",
    "file_content = object1.get()['Body'].read().decode('utf-8')\n",
    "json_content = json.loads(file_content)"
   ]
  }
 ],
 "metadata": {
  "kernelspec": {
   "display_name": "conda_python3",
   "language": "python",
   "name": "conda_python3"
  },
  "language_info": {
   "codemirror_mode": {
    "name": "ipython",
    "version": 3
   },
   "file_extension": ".py",
   "mimetype": "text/x-python",
   "name": "python",
   "nbconvert_exporter": "python",
   "pygments_lexer": "ipython3",
   "version": "3.6.13"
  }
 },
 "nbformat": 4,
 "nbformat_minor": 5
}
