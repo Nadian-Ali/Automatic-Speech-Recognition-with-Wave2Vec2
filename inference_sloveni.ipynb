{
 "cells": [
  {
   "cell_type": "code",
   "execution_count": 1,
   "id": "0b142a73",
   "metadata": {},
   "outputs": [],
   "source": [
    "%%capture\n",
    "\n",
    "#enable the process bar\n",
    "!conda install -y -c conda-forge ipywidgets\n",
    "!jupyter nbextension enable --py widgetsnbextension\n",
    "\n",
    "!conda install -y pytorch torchaudio cudatoolkit=10.2 -c pytorch\n",
    "!pip install datasets==1.13.3\n",
    "!pip install transformers==4.11.3\n",
    "!pip install librosa\n",
    "!pip install jiwer\n",
    "!pip install s3fs\n",
    "!pip install boto3\n",
    "\n",
    "print('everything installed')"
   ]
  },
  {
   "cell_type": "code",
   "execution_count": 1,
   "id": "5ecdec58",
   "metadata": {},
   "outputs": [
    {
     "name": "stderr",
     "output_type": "stream",
     "text": [
      "UsageError: %%capture is a cell magic, but the cell body is empty.\n"
     ]
    }
   ],
   "source": [
    "# %%capture\n",
    "# !pip install datasets==1.13.3\n",
    "# !pip install transformers==4.11.3"
   ]
  },
  {
   "cell_type": "code",
   "execution_count": 1,
   "id": "735ca1b7",
   "metadata": {},
   "outputs": [],
   "source": [
    "import boto3\n",
    "import json"
   ]
  },
  {
   "cell_type": "code",
   "execution_count": 2,
   "id": "e28b493f",
   "metadata": {},
   "outputs": [],
   "source": [
    "from datasets import load_dataset, load_metric, Audio\n"
   ]
  },
  {
   "cell_type": "code",
   "execution_count": 4,
   "id": "e7aab2bc",
   "metadata": {},
   "outputs": [],
   "source": [
    "# import keys from  local \n",
    "\n"
   ]
  },
  {
   "cell_type": "code",
   "execution_count": 5,
   "id": "eb796209",
   "metadata": {},
   "outputs": [],
   "source": [
    "s3resource = boto3.resource(\n",
    "service_name='s3',\n",
    "region_name='eu-west-1',\n",
    "aws_access_key_id= data['aws_access_key_id'],\n",
    "aws_secret_access_key= data['aws_secret_access_key'] )"
   ]
  },
  {
   "cell_type": "code",
   "execution_count": null,
   "id": "b13bf445",
   "metadata": {},
   "outputs": [],
   "source": [
    "# s3client = boto3.client(\n",
    "# service_name='s3',\n",
    "# region_name='eu-west-1',\n",
    "# aws_access_key_id= data['aws_access_key_id'],\n",
    "# aws_secret_access_key= data['aws_secret_access_key'] )"
   ]
  },
  {
   "cell_type": "code",
   "execution_count": 7,
   "id": "dbc327c4",
   "metadata": {},
   "outputs": [],
   "source": [
    "BUCKET = 'commonvoicesdataset'\n",
    "FILE_TO_READ = 'Turkish/vocab.json'\n",
    "object1 = s3resource.Object(BUCKET,FILE_TO_READ)\n",
    "file_content = object1.get()['Body'].read().decode('utf-8')\n",
    "A =json.loads(file_content)"
   ]
  },
  {
   "cell_type": "code",
   "execution_count": 8,
   "id": "0cbf5f4b",
   "metadata": {},
   "outputs": [],
   "source": [
    "import json\n",
    "with open('./vocab.json', 'w') as vocab_file:\n",
    "    json.dump(A, vocab_file)"
   ]
  },
  {
   "cell_type": "code",
   "execution_count": 6,
   "id": "894e0bbd",
   "metadata": {},
   "outputs": [],
   "source": [
    "from datasets import load_from_disk"
   ]
  },
  {
   "cell_type": "code",
   "execution_count": 7,
   "id": "3da8ae7c",
   "metadata": {},
   "outputs": [],
   "source": [
    "from datasets.filesystems import S3FileSystem\n",
    "s3fsystems = S3FileSystem(key=data['aws_access_key_id'], secret=data['aws_secret_access_key'])  "
   ]
  },
  {
   "cell_type": "code",
   "execution_count": 8,
   "id": "d5bf5f92",
   "metadata": {},
   "outputs": [],
   "source": [
    "train_set_loaded = load_from_disk('s3://commonvoicesdataset/Sloveni/train_set',fs=s3fsystems)  "
   ]
  },
  {
   "cell_type": "code",
   "execution_count": 9,
   "id": "1f853213",
   "metadata": {},
   "outputs": [],
   "source": [
    "test_set_loaded = load_from_disk('s3://commonvoicesdataset/Sloveni/test_set',fs=s3fsystems)  "
   ]
  },
  {
   "cell_type": "code",
   "execution_count": 10,
   "id": "0617dc1f",
   "metadata": {},
   "outputs": [
    {
     "data": {
      "text/plain": [
       "Dataset({\n",
       "    features: ['input_values', 'labels'],\n",
       "    num_rows: 881\n",
       "})"
      ]
     },
     "execution_count": 10,
     "metadata": {},
     "output_type": "execute_result"
    }
   ],
   "source": [
    "test_set_loaded"
   ]
  },
  {
   "cell_type": "code",
   "execution_count": 11,
   "id": "06217717",
   "metadata": {},
   "outputs": [
    {
     "name": "stderr",
     "output_type": "stream",
     "text": [
      "Using custom data configuration tr-ad9f7b76efa9f3a0\n",
      "Reusing dataset common_voice (/home/ec2-user/.cache/huggingface/datasets/common_voice/tr-ad9f7b76efa9f3a0/6.1.0/f7a9d973839b7706e9e281c19b7e512f31badf3c0fdbd21c671f3c4bf9acf3b9)\n"
     ]
    }
   ],
   "source": [
    "common_voice_test_transcription = load_dataset(\"common_voice\", \"tr\", data_dir=\"./cv-corpus-6.1-2020-12-11\", split=\"test\")"
   ]
  },
  {
   "cell_type": "code",
   "execution_count": null,
   "id": "f88cfac1",
   "metadata": {},
   "outputs": [],
   "source": []
  },
  {
   "cell_type": "code",
   "execution_count": 12,
   "id": "b31a3c9d",
   "metadata": {},
   "outputs": [
    {
     "name": "stdout",
     "output_type": "stream",
     "text": [
      "download: s3://commonvoicesdataset/Sloveni/finalmodel/special_tokens_map.json to ../Sloveniinf/special_tokens_map.json\n",
      "download: s3://commonvoicesdataset/Sloveni/finalmodel/config.json to ../Sloveniinf/config.json\n",
      "download: s3://commonvoicesdataset/Sloveni/finalmodel/tokenizer_config.json to ../Sloveniinf/tokenizer_config.json\n",
      "download: s3://commonvoicesdataset/Sloveni/finalmodel/training_args.bin to ../Sloveniinf/training_args.bin\n",
      "download: s3://commonvoicesdataset/Sloveni/finalmodel/preprocessor_config.json to ../Sloveniinf/preprocessor_config.json\n",
      "download: s3://commonvoicesdataset/Sloveni/finalmodel/vocab.json to ../Sloveniinf/vocab.json\n",
      "download: s3://commonvoicesdataset/Sloveni/finalmodel/pytorch_model.bin to ../Sloveniinf/pytorch_model.bin\n"
     ]
    }
   ],
   "source": [
    "!aws s3 cp   s3://commonvoicesdataset/Sloveni/finalmodel  '/home/ec2-user/SageMaker/Sloveniinf' --recursive "
   ]
  },
  {
   "cell_type": "code",
   "execution_count": 13,
   "id": "266732e7",
   "metadata": {},
   "outputs": [],
   "source": [
    "path_to_model =  '/home/ec2-user/SageMaker/Sloveniinf'"
   ]
  },
  {
   "cell_type": "code",
   "execution_count": 14,
   "id": "a0ca810a",
   "metadata": {},
   "outputs": [],
   "source": [
    "%%capture\n",
    "from transformers import Wav2Vec2ForCTC\n",
    "model = Wav2Vec2ForCTC.from_pretrained(path_to_model).to(\"cuda\")\n"
   ]
  },
  {
   "cell_type": "code",
   "execution_count": 15,
   "id": "13d5e425",
   "metadata": {},
   "outputs": [],
   "source": [
    "from transformers import Wav2Vec2Processor\n",
    "processor = Wav2Vec2Processor.from_pretrained(path_to_model)"
   ]
  },
  {
   "cell_type": "code",
   "execution_count": 17,
   "id": "6fe779a6",
   "metadata": {},
   "outputs": [
    {
     "data": {
      "text/plain": [
       "dict_keys(['labels', 'input_values'])"
      ]
     },
     "execution_count": 17,
     "metadata": {},
     "output_type": "execute_result"
    }
   ],
   "source": [
    "test_set_loaded[0].keys()"
   ]
  },
  {
   "cell_type": "code",
   "execution_count": 16,
   "id": "6d6b238d",
   "metadata": {},
   "outputs": [],
   "source": [
    "import torch"
   ]
  },
  {
   "cell_type": "code",
   "execution_count": 22,
   "id": "251b8a47",
   "metadata": {},
   "outputs": [
    {
     "name": "stderr",
     "output_type": "stream",
     "text": [
      "/home/ec2-user/anaconda3/envs/s2t/lib/python3.7/site-packages/transformers/feature_extraction_utils.py:158: UserWarning: Creating a tensor from a list of numpy.ndarrays is extremely slow. Please consider converting the list to a single numpy.ndarray with numpy.array() before converting to a tensor. (Triggered internally at  /opt/conda/conda-bld/pytorch_1640811756765/work/torch/csrc/utils/tensor_new.cpp:201.)\n",
      "  tensor = as_tensor(value)\n"
     ]
    }
   ],
   "source": [
    "with open('/home/ec2-user/SageMaker/Sloveniinf/results.text','w') as file:\n",
    "    \n",
    "\n",
    "    for sample_num in range(1,200,10):\n",
    "        input_dict = processor(test_set_loaded[sample_num][\"input_values\"], return_tensors=\"pt\", padding=True,sampling_rate=16000)\n",
    "\n",
    "        logits = model(input_dict.input_values.to(\"cuda\")).logits\n",
    "\n",
    "        pred_ids = torch.argmax(logits, dim=-1)[0]\n",
    "        \n",
    "#         print(\"\\nReference: \",common_voice_test_transcription[sample_num][\"sentence\"].lower())\n",
    "    #   print(common_voice_test_transcription[sample_num][\"sentence\"].lower())\n",
    "#         print(\"Prediction:\",processor.decode(pred_ids))\n",
    "    #   print(processor.decode(pred_ids))\n",
    "#         print('------------------------------------------')\n",
    "        text1 =\"\\nReference: \",common_voice_test_transcription[sample_num][\"sentence\"].lower()\n",
    "        text2 = \"\\nPrediction:\",processor.decode(pred_ids)\n",
    "#         print('------------------------------------------')\n",
    "#         file.write(text1)\n",
    "#         file.write(text2)\n",
    "        file.writelines(text1)\n",
    "        file.writelines(text2)\n",
    "        file.writelines('\\n---------------------------------')"
   ]
  },
  {
   "cell_type": "code",
   "execution_count": null,
   "id": "3bcacfc6",
   "metadata": {},
   "outputs": [],
   "source": []
  },
  {
   "cell_type": "code",
   "execution_count": null,
   "id": "abf6554c",
   "metadata": {},
   "outputs": [],
   "source": []
  },
  {
   "cell_type": "code",
   "execution_count": null,
   "id": "3e177e2a",
   "metadata": {},
   "outputs": [],
   "source": []
  },
  {
   "cell_type": "code",
   "execution_count": null,
   "id": "c22af467",
   "metadata": {},
   "outputs": [],
   "source": []
  },
  {
   "cell_type": "code",
   "execution_count": null,
   "id": "cf06d19b",
   "metadata": {},
   "outputs": [],
   "source": []
  },
  {
   "cell_type": "code",
   "execution_count": null,
   "id": "92e836c6",
   "metadata": {},
   "outputs": [],
   "source": []
  }
 ],
 "metadata": {
  "kernelspec": {
   "display_name": "conda_s2t",
   "language": "python",
   "name": "conda_s2t"
  },
  "language_info": {
   "codemirror_mode": {
    "name": "ipython",
    "version": 3
   },
   "file_extension": ".py",
   "mimetype": "text/x-python",
   "name": "python",
   "nbconvert_exporter": "python",
   "pygments_lexer": "ipython3",
   "version": "3.7.12"
  }
 },
 "nbformat": 4,
 "nbformat_minor": 5
}
