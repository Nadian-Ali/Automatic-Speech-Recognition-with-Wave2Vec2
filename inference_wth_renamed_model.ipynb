{
 "cells": [
  {
   "cell_type": "code",
   "execution_count": 1,
   "id": "774ef9dc",
   "metadata": {},
   "outputs": [],
   "source": [
    "%%capture\n",
    "\n",
    "#enable the process bar\n",
    "!conda install -y -c conda-forge ipywidgets\n",
    "!jupyter nbextension enable --py widgetsnbextension\n",
    "\n",
    "!conda install -y pytorch torchaudio cudatoolkit=10.2 -c pytorch\n",
    "!pip install datasets==1.13.3\n",
    "!pip install transformers==4.11.3\n",
    "!pip install librosa\n",
    "!pip install jiwer\n",
    "!pip install s3fs\n",
    "!pip install boto3\n",
    "\n",
    "print('everything installed')"
   ]
  },
  {
   "cell_type": "code",
   "execution_count": 1,
   "id": "10f02305",
   "metadata": {},
   "outputs": [
    {
     "name": "stderr",
     "output_type": "stream",
     "text": [
      "UsageError: %%capture is a cell magic, but the cell body is empty.\n"
     ]
    }
   ],
   "source": [
    "# %%capture\n",
    "# !pip install datasets==1.13.3\n",
    "# !pip install transformers==4.11.3"
   ]
  },
  {
   "cell_type": "code",
   "execution_count": 2,
   "id": "206233ed",
   "metadata": {},
   "outputs": [],
   "source": [
    "import boto3\n",
    "import json"
   ]
  },
  {
   "cell_type": "code",
   "execution_count": 3,
   "id": "5df595f8",
   "metadata": {},
   "outputs": [],
   "source": [
    "from datasets import load_dataset, load_metric, Audio\n"
   ]
  },
  {
   "cell_type": "code",
   "execution_count": 5,
   "id": "e32a18f8",
   "metadata": {},
   "outputs": [],
   "source": [
    "# import keys from  local \n"
   ]
  },
  {
   "cell_type": "code",
   "execution_count": 6,
   "id": "f47f2b90",
   "metadata": {},
   "outputs": [],
   "source": [
    "s3resource = boto3.resource(\n",
    "service_name='s3',\n",
    "region_name='eu-west-1',\n",
    "aws_access_key_id= data['aws_access_key_id'],\n",
    "aws_secret_access_key= data['aws_secret_access_key'] )"
   ]
  },
  {
   "cell_type": "code",
   "execution_count": null,
   "id": "f52d1322",
   "metadata": {},
   "outputs": [],
   "source": [
    "# s3client = boto3.client(\n",
    "# service_name='s3',\n",
    "# region_name='eu-west-1',\n",
    "# aws_access_key_id= data['aws_access_key_id'],\n",
    "# aws_secret_access_key= data['aws_secret_access_key'] )"
   ]
  },
  {
   "cell_type": "code",
   "execution_count": 7,
   "id": "1193858a",
   "metadata": {},
   "outputs": [],
   "source": [
    "BUCKET = 'commonvoicesdataset'\n",
    "FILE_TO_READ = 'Turkish/vocab.json'\n",
    "object1 = s3resource.Object(BUCKET,FILE_TO_READ)\n",
    "file_content = object1.get()['Body'].read().decode('utf-8')\n",
    "A =json.loads(file_content)"
   ]
  },
  {
   "cell_type": "code",
   "execution_count": 8,
   "id": "10174178",
   "metadata": {},
   "outputs": [],
   "source": [
    "import json\n",
    "with open('./vocab.json', 'w') as vocab_file:\n",
    "    json.dump(A, vocab_file)"
   ]
  },
  {
   "cell_type": "code",
   "execution_count": 9,
   "id": "7af6c0fc",
   "metadata": {},
   "outputs": [],
   "source": [
    "from datasets import load_from_disk"
   ]
  },
  {
   "cell_type": "code",
   "execution_count": 7,
   "id": "82e29dfd",
   "metadata": {},
   "outputs": [],
   "source": [
    "from datasets.filesystems import S3FileSystem\n",
    "s3fsystems = S3FileSystem(key=data['aws_access_key_id'], secret=data['aws_secret_access_key'])  "
   ]
  },
  {
   "cell_type": "code",
   "execution_count": 10,
   "id": "faa81caf",
   "metadata": {},
   "outputs": [],
   "source": [
    "train_set_loaded = load_from_disk('s3://commonvoicesdataset/Turkish/train_set',fs=s3fsystems)  "
   ]
  },
  {
   "cell_type": "code",
   "execution_count": 10,
   "id": "7cfb0050",
   "metadata": {},
   "outputs": [],
   "source": [
    "test_set_loaded = load_from_disk('s3://commonvoicesdataset/Turkish/test_set',fs=s3fsystems)  "
   ]
  },
  {
   "cell_type": "code",
   "execution_count": 11,
   "id": "3c3aefab",
   "metadata": {},
   "outputs": [
    {
     "data": {
      "text/plain": [
       "Dataset({\n",
       "    features: ['input_values', 'labels'],\n",
       "    num_rows: 1647\n",
       "})"
      ]
     },
     "execution_count": 11,
     "metadata": {},
     "output_type": "execute_result"
    }
   ],
   "source": [
    "test_set_loaded"
   ]
  },
  {
   "cell_type": "code",
   "execution_count": 12,
   "id": "f53aa7f7",
   "metadata": {},
   "outputs": [
    {
     "name": "stderr",
     "output_type": "stream",
     "text": [
      "Using custom data configuration tr-ad9f7b76efa9f3a0\n",
      "Reusing dataset common_voice (/home/ec2-user/.cache/huggingface/datasets/common_voice/tr-ad9f7b76efa9f3a0/6.1.0/f7a9d973839b7706e9e281c19b7e512f31badf3c0fdbd21c671f3c4bf9acf3b9)\n"
     ]
    }
   ],
   "source": [
    "common_voice_test_transcription = load_dataset(\"common_voice\", \"tr\", data_dir=\"./cv-corpus-6.1-2020-12-11\", split=\"test\")"
   ]
  },
  {
   "cell_type": "code",
   "execution_count": null,
   "id": "454e4bf7",
   "metadata": {},
   "outputs": [],
   "source": []
  },
  {
   "cell_type": "code",
   "execution_count": 26,
   "id": "3ba339f3",
   "metadata": {},
   "outputs": [
    {
     "name": "stdout",
     "output_type": "stream",
     "text": [
      "download: s3://commonvoicesdataset/Turkish/Checkpoint/checkpoint-10000/config.json to ../Turkish3/config.json\n",
      "download: s3://commonvoicesdataset/Turkish/Checkpoint/checkpoint-10000/special_tokens_map.json to ../Turkish3/special_tokens_map.json\n",
      "download: s3://commonvoicesdataset/Turkish/Checkpoint/checkpoint-10000/scaler.pt to ../Turkish3/scaler.pt\n",
      "download: s3://commonvoicesdataset/Turkish/Checkpoint/checkpoint-10000/rng_state.pth to ../Turkish3/rng_state.pth\n",
      "download: s3://commonvoicesdataset/Turkish/Checkpoint/checkpoint-10000/preprocessor_config.json to ../Turkish3/preprocessor_config.json\n",
      "download: s3://commonvoicesdataset/Turkish/Checkpoint/checkpoint-10000/scheduler.pt to ../Turkish3/scheduler.pt\n",
      "download: s3://commonvoicesdataset/Turkish/Checkpoint/checkpoint-10000/tokenizer_config.json to ../Turkish3/tokenizer_config.json\n",
      "download: s3://commonvoicesdataset/Turkish/Checkpoint/checkpoint-10000/trainer_state.json to ../Turkish3/trainer_state.json\n",
      "download: s3://commonvoicesdataset/Turkish/Checkpoint/checkpoint-10000/vocab.json to ../Turkish3/vocab.json\n",
      "download: s3://commonvoicesdataset/Turkish/Checkpoint/checkpoint-10000/training_args.bin to ../Turkish3/training_args.bin\n",
      "download: s3://commonvoicesdataset/Turkish/Checkpoint/checkpoint-10000/pytorch_model.bin to ../Turkish3/pytorch_model.bin\n",
      "download: s3://commonvoicesdataset/Turkish/Checkpoint/checkpoint-10000/optimizer.pt to ../Turkish3/optimizer.pt\n"
     ]
    }
   ],
   "source": [
    "!aws s3 cp   s3://commonvoicesdataset/Turkish/Checkpoint/checkpoint-10000  '/home/ec2-user/SageMaker/Turkish3' --recursive "
   ]
  },
  {
   "cell_type": "code",
   "execution_count": 31,
   "id": "20aececc",
   "metadata": {},
   "outputs": [],
   "source": [
    "path_to_model = '/home/ec2-user/SageMaker/Turkish3/'"
   ]
  },
  {
   "cell_type": "code",
   "execution_count": 32,
   "id": "e3defe0f",
   "metadata": {},
   "outputs": [],
   "source": [
    "%%capture\n",
    "from transformers import Wav2Vec2ForCTC\n",
    "model = Wav2Vec2ForCTC.from_pretrained(path_to_model).to(\"cuda\")\n"
   ]
  },
  {
   "cell_type": "code",
   "execution_count": 33,
   "id": "88e87054",
   "metadata": {},
   "outputs": [],
   "source": [
    "from transformers import Wav2Vec2Processor\n",
    "processor = Wav2Vec2Processor.from_pretrained(path_to_model)"
   ]
  },
  {
   "cell_type": "code",
   "execution_count": 17,
   "id": "01995be2",
   "metadata": {},
   "outputs": [
    {
     "data": {
      "text/plain": [
       "dict_keys(['labels', 'input_values'])"
      ]
     },
     "execution_count": 17,
     "metadata": {},
     "output_type": "execute_result"
    }
   ],
   "source": [
    "test_set_loaded[0].keys()"
   ]
  },
  {
   "cell_type": "code",
   "execution_count": 20,
   "id": "71d194ff",
   "metadata": {},
   "outputs": [],
   "source": [
    "import torch"
   ]
  },
  {
   "cell_type": "code",
   "execution_count": 34,
   "id": "adae78ae",
   "metadata": {},
   "outputs": [],
   "source": [
    "with open('/home/ec2-user/SageMaker/Turkish/results4.text','w') as file:\n",
    "\n",
    "    for sample_num in range(1,200,10):\n",
    "        input_dict = processor(test_set_loaded[sample_num][\"input_values\"], return_tensors=\"pt\", padding=True,sampling_rate=16000)\n",
    "\n",
    "        logits = model(input_dict.input_values.to(\"cuda\")).logits\n",
    "\n",
    "        pred_ids = torch.argmax(logits, dim=-1)[0]\n",
    "        \n",
    "#         print(\"\\nReference: \",common_voice_test_transcription[sample_num][\"sentence\"].lower())\n",
    "    #   print(common_voice_test_transcription[sample_num][\"sentence\"].lower())\n",
    "#         print(\"Prediction:\",processor.decode(pred_ids))\n",
    "    #   print(processor.decode(pred_ids))\n",
    "#         print('------------------------------------------')\n",
    "        text1 =\"\\nReference: \",common_voice_test_transcription[sample_num][\"sentence\"].lower()\n",
    "        text2 = \"\\nPrediction:\",processor.decode(pred_ids)\n",
    "#         print('------------------------------------------')\n",
    "#         file.write(text1)\n",
    "#         file.write(text2)\n",
    "        file.writelines(text1)\n",
    "        file.writelines(text2)\n",
    "        file.writelines('\\n---------------------------------')"
   ]
  },
  {
   "cell_type": "code",
   "execution_count": 37,
   "id": "21cb2ec9",
   "metadata": {},
   "outputs": [
    {
     "name": "stdout",
     "output_type": "stream",
     "text": [
      "this is to update git\n"
     ]
    }
   ],
   "source": [
    "\n",
    "bprint('this is to update git')"
   ]
  },
  {
   "cell_type": "code",
   "execution_count": 39,
   "id": "00a68026",
   "metadata": {},
   "outputs": [
    {
     "ename": "SyntaxError",
     "evalue": "invalid syntax (451646570.py, line 1)",
     "output_type": "error",
     "traceback": [
      "\u001b[0;36m  File \u001b[0;32m\"/tmp/ipykernel_27749/451646570.py\"\u001b[0;36m, line \u001b[0;32m1\u001b[0m\n\u001b[0;31m    may be needs more?        text2 = \"\\nPrediction:\",processor.decode(pred_ids)\u001b[0m\n\u001b[0m         ^\u001b[0m\n\u001b[0;31mSyntaxError\u001b[0m\u001b[0;31m:\u001b[0m invalid syntax\n"
     ]
    }
   ],
   "source": [
    "may be needs more?        text2 = \"\\nPrediction:\",processor.decode(pred_ids)\n",
    "#         print('------------------------------------------')\n",
    "#         file.write(text1)\n",
    "#         file.write(text2)\n",
    "        file.writelines(text1)\n",
    "        file.writelines(text2)\n",
    "        file.writelines('\\n---------------------------------')"
   ]
  },
  {
   "cell_type": "code",
   "execution_count": null,
   "id": "2cfd18bd",
   "metadata": {},
   "outputs": [],
   "source": [
    "may be needs more"
   ]
  },
  {
   "cell_type": "code",
   "execution_count": null,
   "id": "d5e871b0",
   "metadata": {},
   "outputs": [],
   "source": []
  },
  {
   "cell_type": "code",
   "execution_count": null,
   "id": "14c297ab",
   "metadata": {},
   "outputs": [],
   "source": []
  },
  {
   "cell_type": "code",
   "execution_count": null,
   "id": "18c4b934",
   "metadata": {},
   "outputs": [],
   "source": []
  }
 ],
 "metadata": {
  "kernelspec": {
   "display_name": "conda_s2t",
   "language": "python",
   "name": "conda_s2t"
  },
  "language_info": {
   "codemirror_mode": {
    "name": "ipython",
    "version": 3
   },
   "file_extension": ".py",
   "mimetype": "text/x-python",
   "name": "python",
   "nbconvert_exporter": "python",
   "pygments_lexer": "ipython3",
   "version": "3.7.12"
  }
 },
 "nbformat": 4,
 "nbformat_minor": 5
}
