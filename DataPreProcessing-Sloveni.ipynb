{
 "cells": [
  {
   "cell_type": "markdown",
   "id": "a5bf890e",
   "metadata": {},
   "source": [
    "!python --version"
   ]
  },
  {
   "cell_type": "code",
   "execution_count": null,
   "id": "80e770db",
   "metadata": {},
   "outputs": [],
   "source": []
  },
  {
   "cell_type": "code",
   "execution_count": null,
   "id": "0649c705",
   "metadata": {},
   "outputs": [],
   "source": [
    "%%capture\n",
    "\n",
    "#enable the process bar\n",
    "!conda install -y -c conda-forge ipywidgets\n",
    "!jupyter nbextension enable --py widgetsnbextension\n",
    "\n",
    "!conda install -y pytorch torchaudio cudatoolkit=10.2 -c pytorch\n",
    "!pip install      datasets==1.13.3\n",
    "!pip install      transformers==4.11.3\n",
    "!pip install      librosa\n",
    "!pip install      jiwer\n",
    "!pip install      s3fs"
   ]
  },
  {
   "cell_type": "code",
   "execution_count": 2,
   "id": "8c9cfa33",
   "metadata": {},
   "outputs": [],
   "source": [
    "%%capture \n",
    "!pip install boto3"
   ]
  },
  {
   "cell_type": "code",
   "execution_count": 23,
   "id": "de7ac6d7",
   "metadata": {},
   "outputs": [],
   "source": [
    "import boto3\n",
    "import datasets\n",
    "import s3fs\n",
    "import os\n"
   ]
  },
  {
   "cell_type": "code",
   "execution_count": null,
   "id": "9d86c559",
   "metadata": {},
   "outputs": [],
   "source": []
  },
  {
   "cell_type": "code",
   "execution_count": 12,
   "id": "0d99e23a",
   "metadata": {},
   "outputs": [],
   "source": [
    "# my_session = boto3.session.Session()\n",
    "# s3 = my_session.client('s3')"
   ]
  },
  {
   "cell_type": "code",
   "execution_count": 3,
   "id": "032bddc0",
   "metadata": {},
   "outputs": [],
   "source": [
    "# insert AWS keys here\n"
   ]
  },
  {
   "cell_type": "code",
   "execution_count": 4,
   "id": "2034f45e",
   "metadata": {},
   "outputs": [],
   "source": [
    "s3 = boto3.resource(\n",
    "service_name='s3',\n",
    "region_name='eu-west-1',\n",
    "aws_access_key_id= data['aws_access_key_id'],\n",
    "aws_secret_access_key= data['aws_secret_access_key'])\n"
   ]
  },
  {
   "cell_type": "code",
   "execution_count": 25,
   "id": "e09f9e9a",
   "metadata": {},
   "outputs": [],
   "source": [
    "# %rm -rf sloveni"
   ]
  },
  {
   "cell_type": "code",
   "execution_count": 39,
   "id": "ec9095c6",
   "metadata": {},
   "outputs": [],
   "source": [
    "BUCKET_NAME = 'commonvoicesdataset'\n",
    "key = 'Sloveni/vocab.json'\n",
    "\n",
    "root = '/home/ec2-user/SageMaker/STT'\n",
    "lang = 'sloveni'\n",
    "dataset = 'dataset'\n",
    "tokenizer = 'tokenizer'\n",
    "json = 'json'\n",
    "# add s3 path as well  "
   ]
  },
  {
   "cell_type": "code",
   "execution_count": 51,
   "id": "856ebbe5",
   "metadata": {},
   "outputs": [],
   "source": [
    "#create language folder \n",
    "lang_dir = os.path.join(root,lang)\n",
    "if not os.path.isdir(lang_dir):\n",
    "    os.mkdir(lang_dir)\n",
    "\n",
    "dataset_path = os.path.join(root,lang,dataset)\n",
    "if not os.path.isdir(dataset_path):\n",
    "    os.mkdir(dataset_path)\n",
    "tokenizer_path = os.path.join(root,lang,tokenizer)\n"
   ]
  },
  {
   "cell_type": "code",
   "execution_count": 47,
   "id": "5b4542c6",
   "metadata": {},
   "outputs": [],
   "source": []
  },
  {
   "cell_type": "code",
   "execution_count": 49,
   "id": "bbe65e35",
   "metadata": {},
   "outputs": [],
   "source": [
    "\n"
   ]
  },
  {
   "cell_type": "code",
   "execution_count": 52,
   "id": "a2e491d2",
   "metadata": {},
   "outputs": [
    {
     "name": "stdout",
     "output_type": "stream",
     "text": [
      "Downloading and preparing dataset common_voice/sl (download: 212.43 MiB, generated: 2.39 MiB, post-processed: Unknown size, total: 214.83 MiB) to /home/ec2-user/SageMaker/STT/sloveni/dataset/common_voice/sl/6.1.0/f7a9d973839b7706e9e281c19b7e512f31badf3c0fdbd21c671f3c4bf9acf3b9...\n"
     ]
    },
    {
     "data": {
      "application/vnd.jupyter.widget-view+json": {
       "model_id": "0bb5d84bb41f4347b680b7b764b0355d",
       "version_major": 2,
       "version_minor": 0
      },
      "text/plain": [
       "Downloading:   0%|          | 0.00/223M [00:00<?, ?B/s]"
      ]
     },
     "metadata": {},
     "output_type": "display_data"
    },
    {
     "data": {
      "application/vnd.jupyter.widget-view+json": {
       "model_id": "44e86f2b29fe4e7cb491ad90a95b286a",
       "version_major": 2,
       "version_minor": 0
      },
      "text/plain": [
       "0 examples [00:00, ? examples/s]"
      ]
     },
     "metadata": {},
     "output_type": "display_data"
    },
    {
     "data": {
      "application/vnd.jupyter.widget-view+json": {
       "model_id": "3d1eed78b7f64bb6ab9ed36f6b15a500",
       "version_major": 2,
       "version_minor": 0
      },
      "text/plain": [
       "0 examples [00:00, ? examples/s]"
      ]
     },
     "metadata": {},
     "output_type": "display_data"
    },
    {
     "data": {
      "application/vnd.jupyter.widget-view+json": {
       "model_id": "f48865699e5444f4a06048ecc29bda7a",
       "version_major": 2,
       "version_minor": 0
      },
      "text/plain": [
       "0 examples [00:00, ? examples/s]"
      ]
     },
     "metadata": {},
     "output_type": "display_data"
    },
    {
     "data": {
      "application/vnd.jupyter.widget-view+json": {
       "model_id": "389d19acb3cf4869beba707c7d7c27a8",
       "version_major": 2,
       "version_minor": 0
      },
      "text/plain": [
       "0 examples [00:00, ? examples/s]"
      ]
     },
     "metadata": {},
     "output_type": "display_data"
    },
    {
     "data": {
      "application/vnd.jupyter.widget-view+json": {
       "model_id": "14d25dc748bf4baa9709f0d4f3bf545f",
       "version_major": 2,
       "version_minor": 0
      },
      "text/plain": [
       "0 examples [00:00, ? examples/s]"
      ]
     },
     "metadata": {},
     "output_type": "display_data"
    },
    {
     "name": "stdout",
     "output_type": "stream",
     "text": [
      "Dataset common_voice downloaded and prepared to /home/ec2-user/SageMaker/STT/sloveni/dataset/common_voice/sl/6.1.0/f7a9d973839b7706e9e281c19b7e512f31badf3c0fdbd21c671f3c4bf9acf3b9. Subsequent calls will reuse this data.\n"
     ]
    },
    {
     "name": "stderr",
     "output_type": "stream",
     "text": [
      "Reusing dataset common_voice (/home/ec2-user/SageMaker/STT/sloveni/dataset/common_voice/sl/6.1.0/f7a9d973839b7706e9e281c19b7e512f31badf3c0fdbd21c671f3c4bf9acf3b9)\n"
     ]
    }
   ],
   "source": [
    "from datasets import load_dataset, load_metric, Audio\n",
    "\n",
    "common_voice_train = load_dataset(\"common_voice\", \"sl\", split=\"train+validation\",cache_dir=dataset_path)\n",
    "common_voice_test = load_dataset(\"common_voice\", \"sl\", split=\"test\",cache_dir=dataset_path)"
   ]
  },
  {
   "cell_type": "code",
   "execution_count": 53,
   "id": "9a0d8dbd",
   "metadata": {},
   "outputs": [],
   "source": [
    "common_voice_train = common_voice_train.remove_columns([\"accent\", \"age\", \"client_id\", \"down_votes\", \"gender\", \"locale\", \"segment\", \"up_votes\"])\n",
    "common_voice_test = common_voice_test.remove_columns([\"accent\", \"age\", \"client_id\", \"down_votes\", \"gender\", \"locale\", \"segment\", \"up_votes\"])"
   ]
  },
  {
   "cell_type": "code",
   "execution_count": 8,
   "id": "a235f3a4",
   "metadata": {},
   "outputs": [
    {
     "data": {
      "text/plain": [
       "Dataset({\n",
       "    features: ['path', 'audio', 'sentence'],\n",
       "    num_rows: 2594\n",
       "})"
      ]
     },
     "execution_count": 8,
     "metadata": {},
     "output_type": "execute_result"
    }
   ],
   "source": [
    "common_voice_train"
   ]
  },
  {
   "cell_type": "code",
   "execution_count": 54,
   "id": "625e789c",
   "metadata": {},
   "outputs": [],
   "source": [
    "import re\n",
    "chars_to_ignore_regex = '[\\,\\?\\.\\!\\-\\;\\:\\\"\\“\\%\\‘\\”\\�]'\n",
    "\n",
    "def remove_special_characters(batch):\n",
    "    batch[\"sentence\"] = re.sub(chars_to_ignore_regex, '', batch[\"sentence\"]).lower() + \" \"\n",
    "    return batch"
   ]
  },
  {
   "cell_type": "code",
   "execution_count": null,
   "id": "23a68a76",
   "metadata": {},
   "outputs": [],
   "source": []
  },
  {
   "cell_type": "code",
   "execution_count": 55,
   "id": "331f93ae",
   "metadata": {},
   "outputs": [
    {
     "data": {
      "application/vnd.jupyter.widget-view+json": {
       "model_id": "948d368e8d4841e4a2462c5e83a531bd",
       "version_major": 2,
       "version_minor": 0
      },
      "text/plain": [
       "  0%|          | 0/2594 [00:00<?, ?ex/s]"
      ]
     },
     "metadata": {},
     "output_type": "display_data"
    },
    {
     "data": {
      "application/vnd.jupyter.widget-view+json": {
       "model_id": "f55f465dec454c8c8ed2609651a02606",
       "version_major": 2,
       "version_minor": 0
      },
      "text/plain": [
       "  0%|          | 0/881 [00:00<?, ?ex/s]"
      ]
     },
     "metadata": {},
     "output_type": "display_data"
    }
   ],
   "source": [
    "common_voice_train = common_voice_train.map(remove_special_characters)\n",
    "common_voice_test = common_voice_test.map(remove_special_characters)\n"
   ]
  },
  {
   "cell_type": "code",
   "execution_count": 56,
   "id": "314cd2f0",
   "metadata": {},
   "outputs": [
    {
     "data": {
      "text/plain": [
       "Dataset({\n",
       "    features: ['path', 'audio', 'sentence'],\n",
       "    num_rows: 881\n",
       "})"
      ]
     },
     "execution_count": 56,
     "metadata": {},
     "output_type": "execute_result"
    }
   ],
   "source": [
    "common_voice_test"
   ]
  },
  {
   "cell_type": "code",
   "execution_count": 57,
   "id": "6d1588d2",
   "metadata": {},
   "outputs": [
    {
     "data": {
      "application/vnd.jupyter.widget-view+json": {
       "model_id": "3518c4d76bb34697b75d95206e3d71c0",
       "version_major": 2,
       "version_minor": 0
      },
      "text/plain": [
       "  0%|          | 0/2594 [00:00<?, ?ex/s]"
      ]
     },
     "metadata": {},
     "output_type": "display_data"
    },
    {
     "data": {
      "application/vnd.jupyter.widget-view+json": {
       "model_id": "a5abf809ec954962abd3b2baa86a7720",
       "version_major": 2,
       "version_minor": 0
      },
      "text/plain": [
       "  0%|          | 0/881 [00:00<?, ?ex/s]"
      ]
     },
     "metadata": {},
     "output_type": "display_data"
    }
   ],
   "source": [
    "def replace_hatted_characters(batch):\n",
    "    batch[\"sentence\"] = re.sub('[â]', 'a', batch[\"sentence\"])\n",
    "    batch[\"sentence\"] = re.sub('[î]', 'i', batch[\"sentence\"])\n",
    "    batch[\"sentence\"] = re.sub('[ô]', 'o', batch[\"sentence\"])\n",
    "    batch[\"sentence\"] = re.sub('[û]', 'u', batch[\"sentence\"])\n",
    "    return batch\n",
    "\n",
    "common_voice_train = common_voice_train.map(replace_hatted_characters)\n",
    "common_voice_test = common_voice_test.map(replace_hatted_characters)\n"
   ]
  },
  {
   "cell_type": "code",
   "execution_count": 58,
   "id": "199428f4",
   "metadata": {},
   "outputs": [
    {
     "data": {
      "text/plain": [
       "Dataset({\n",
       "    features: ['path', 'audio', 'sentence'],\n",
       "    num_rows: 2594\n",
       "})"
      ]
     },
     "execution_count": 58,
     "metadata": {},
     "output_type": "execute_result"
    }
   ],
   "source": [
    "common_voice_train"
   ]
  },
  {
   "cell_type": "code",
   "execution_count": 59,
   "id": "b2924df6",
   "metadata": {},
   "outputs": [
    {
     "data": {
      "text/plain": [
       "'/home/ec2-user/SageMaker/STT'"
      ]
     },
     "execution_count": 59,
     "metadata": {},
     "output_type": "execute_result"
    }
   ],
   "source": [
    "%pwd"
   ]
  },
  {
   "cell_type": "code",
   "execution_count": 61,
   "id": "d701e06f",
   "metadata": {},
   "outputs": [],
   "source": [
    "def extract_all_chars(batch):\n",
    "  all_text = \" \".join(batch[\"sentence\"])\n",
    "  vocab = list(set(all_text))\n",
    "  return {\"vocab\": [vocab], \"all_text\": [all_text]}"
   ]
  },
  {
   "cell_type": "code",
   "execution_count": 62,
   "id": "cafeb9b8",
   "metadata": {},
   "outputs": [
    {
     "data": {
      "application/vnd.jupyter.widget-view+json": {
       "model_id": "7a399dc971e6467f8ba25df1b2e9ea04",
       "version_major": 2,
       "version_minor": 0
      },
      "text/plain": [
       "  0%|          | 0/1 [00:00<?, ?ba/s]"
      ]
     },
     "metadata": {},
     "output_type": "display_data"
    },
    {
     "data": {
      "application/vnd.jupyter.widget-view+json": {
       "model_id": "9934b2f3835041b08fea1c0f74343e93",
       "version_major": 2,
       "version_minor": 0
      },
      "text/plain": [
       "  0%|          | 0/1 [00:00<?, ?ba/s]"
      ]
     },
     "metadata": {},
     "output_type": "display_data"
    }
   ],
   "source": [
    "vocab_train = common_voice_train.map(extract_all_chars, batched=True, batch_size=-1, keep_in_memory=True, remove_columns=common_voice_train.column_names)\n",
    "vocab_test = common_voice_test.map(extract_all_chars, batched=True, batch_size=-1, keep_in_memory=True, remove_columns=common_voice_test.column_names)"
   ]
  },
  {
   "cell_type": "code",
   "execution_count": 11,
   "id": "4e6ff63e",
   "metadata": {},
   "outputs": [
    {
     "data": {
      "text/plain": [
       "Dataset({\n",
       "    features: ['path', 'audio', 'sentence'],\n",
       "    num_rows: 3478\n",
       "})"
      ]
     },
     "execution_count": 11,
     "metadata": {},
     "output_type": "execute_result"
    }
   ],
   "source": [
    "common_voice_train"
   ]
  },
  {
   "cell_type": "code",
   "execution_count": 65,
   "id": "dfc88c13",
   "metadata": {},
   "outputs": [],
   "source": [
    "vocab_list = list(set(vocab_train[\"vocab\"][0]) | set(vocab_test[\"vocab\"][0]))\n",
    "vocab_dict = {v: k for k, v in enumerate(vocab_list)}\n",
    "vocab_dict[\"|\"] = vocab_dict[\" \"]\n",
    "del vocab_dict[\" \"]\n",
    "vocab_dict[\"[UNK]\"] = len(vocab_dict)\n",
    "vocab_dict[\"[PAD]\"] = len(vocab_dict)\n"
   ]
  },
  {
   "cell_type": "code",
   "execution_count": 66,
   "id": "e519d086",
   "metadata": {},
   "outputs": [
    {
     "data": {
      "text/plain": [
       "{'ResponseMetadata': {'RequestId': 'X6M3GVZ49182J45H',\n",
       "  'HostId': '5s6HjrbrE0TQTBGRbk644JdW/5uLx1FuCCRm8DiXtPCSRJ3KmDXg8ncso5eVjKyiBN9+trIk/xE=',\n",
       "  'HTTPStatusCode': 200,\n",
       "  'HTTPHeaders': {'x-amz-id-2': '5s6HjrbrE0TQTBGRbk644JdW/5uLx1FuCCRm8DiXtPCSRJ3KmDXg8ncso5eVjKyiBN9+trIk/xE=',\n",
       "   'x-amz-request-id': 'X6M3GVZ49182J45H',\n",
       "   'date': 'Wed, 23 Feb 2022 15:36:24 GMT',\n",
       "   'etag': '\"5349b65e07578a45362e1997e1880ac4\"',\n",
       "   'server': 'AmazonS3',\n",
       "   'content-length': '0'},\n",
       "  'RetryAttempts': 0},\n",
       " 'ETag': '\"5349b65e07578a45362e1997e1880ac4\"'}"
      ]
     },
     "execution_count": 66,
     "metadata": {},
     "output_type": "execute_result"
    }
   ],
   "source": [
    "import json\n",
    "\n",
    "# with open('vocab.json', 'w') as vocab_file:\n",
    "#     json.dump(vocab_dict, vocab_file)\n",
    "s3.Object('commonvoicesdataset', 'Sloveni/vocab.json').put(Body=json.dumps(vocab_dict,indent = 3))"
   ]
  },
  {
   "cell_type": "code",
   "execution_count": 68,
   "id": "e8e0fab3",
   "metadata": {},
   "outputs": [
    {
     "name": "stdout",
     "output_type": "stream",
     "text": [
      "download: s3://commonvoicesdataset/Sloveni/vocab.json to ./vocab.json\n"
     ]
    }
   ],
   "source": [
    "#download from correct language \n",
    "!aws s3 cp s3://commonvoicesdataset/Sloveni/vocab.json '/home/ec2-user/SageMaker/STT/'   "
   ]
  },
  {
   "cell_type": "code",
   "execution_count": 69,
   "id": "8c0472a7",
   "metadata": {},
   "outputs": [],
   "source": [
    "# this tokenizer is using the previous json file/ so becareful what u load\n",
    "from transformers import Wav2Vec2CTCTokenizer\n",
    "tokenizer = Wav2Vec2CTCTokenizer(\"./vocab.json\", unk_token=\"[UNK]\", pad_token=\"[PAD]\", word_delimiter_token=\"|\")"
   ]
  },
  {
   "cell_type": "code",
   "execution_count": 70,
   "id": "70d7aaad",
   "metadata": {},
   "outputs": [
    {
     "data": {
      "text/plain": [
       "('/home/ec2-user/SageMaker/STT/sloveni/tokenizer/tokenizer_config.json',\n",
       " '/home/ec2-user/SageMaker/STT/sloveni/tokenizer/special_tokens_map.json',\n",
       " '/home/ec2-user/SageMaker/STT/sloveni/tokenizer/vocab.json',\n",
       " '/home/ec2-user/SageMaker/STT/sloveni/tokenizer/added_tokens.json')"
      ]
     },
     "execution_count": 70,
     "metadata": {},
     "output_type": "execute_result"
    }
   ],
   "source": [
    "tokenizer.save_pretrained(tokenizer_path)"
   ]
  },
  {
   "cell_type": "code",
   "execution_count": 72,
   "id": "2ff0ac68",
   "metadata": {},
   "outputs": [
    {
     "name": "stdout",
     "output_type": "stream",
     "text": [
      "upload: sloveni/tokenizer/vocab.json to s3://commonvoicesdataset/Sloveni/tokenizer/vocab.json\n",
      "upload: sloveni/tokenizer/special_tokens_map.json to s3://commonvoicesdataset/Sloveni/tokenizer/special_tokens_map.json\n",
      "upload: sloveni/tokenizer/tokenizer_config.json to s3://commonvoicesdataset/Sloveni/tokenizer/tokenizer_config.json\n"
     ]
    }
   ],
   "source": [
    "!aws s3 cp  '/home/ec2-user/SageMaker/STT/sloveni/tokenizer'  s3://commonvoicesdataset/Sloveni/tokenizer --recursive"
   ]
  },
  {
   "cell_type": "code",
   "execution_count": 21,
   "id": "f6b5ce91",
   "metadata": {},
   "outputs": [],
   "source": [
    "# key = data['aws_access_key_id']\n",
    "# secret = data['aws_secret_access_key']\n",
    "# s3fsystems = s3fs.S3FileSystem(key=key, secret=secret)  "
   ]
  },
  {
   "cell_type": "code",
   "execution_count": 22,
   "id": "423c18c6",
   "metadata": {},
   "outputs": [
    {
     "data": {
      "text/plain": [
       "('/home/ec2-user/SageMaker/STT/sloveni/tokenizer_config.json',\n",
       " '/home/ec2-user/SageMaker/STT/sloveni/special_tokens_map.json',\n",
       " '/home/ec2-user/SageMaker/STT/sloveni/vocab.json',\n",
       " '/home/ec2-user/SageMaker/STT/sloveni/added_tokens.json')"
      ]
     },
     "execution_count": 22,
     "metadata": {},
     "output_type": "execute_result"
    }
   ],
   "source": [
    "# tokenizer.save_pretrained(dataset_path)"
   ]
  },
  {
   "cell_type": "code",
   "execution_count": 25,
   "id": "1b2b9c94",
   "metadata": {},
   "outputs": [
    {
     "data": {
      "text/plain": [
       "('/home/ec2-user/SageMaker/tokenizer_config.json',\n",
       " '/home/ec2-user/SageMaker/special_tokens_map.json',\n",
       " '/home/ec2-user/SageMaker/vocab.json',\n",
       " '/home/ec2-user/SageMaker/added_tokens.json')"
      ]
     },
     "execution_count": 25,
     "metadata": {},
     "output_type": "execute_result"
    }
   ],
   "source": [
    "######\n",
    "\n",
    "# save it to s3 in a folder for the language you want next to the json file \n",
    "#####\n",
    "\n",
    "\n",
    "\n",
    "# tokenizer.save_pretrained('/home/ec2-user/SageMaker')\n",
    "\n"
   ]
  },
  {
   "cell_type": "code",
   "execution_count": 73,
   "id": "f29bba34",
   "metadata": {},
   "outputs": [],
   "source": [
    "from transformers import Wav2Vec2FeatureExtractor\n",
    "feature_extractor = Wav2Vec2FeatureExtractor(feature_size=1, sampling_rate=16000, padding_value=0.0, do_normalize=True, return_attention_mask=True)"
   ]
  },
  {
   "cell_type": "code",
   "execution_count": 74,
   "id": "d5b924b9",
   "metadata": {},
   "outputs": [],
   "source": [
    "from transformers import Wav2Vec2Processor\n",
    "processor = Wav2Vec2Processor(feature_extractor=feature_extractor, tokenizer=tokenizer)"
   ]
  },
  {
   "cell_type": "code",
   "execution_count": 24,
   "id": "6ce0b6fb",
   "metadata": {},
   "outputs": [
    {
     "data": {
      "text/plain": [
       "'/home/ec2-user/SageMaker/STT'"
      ]
     },
     "execution_count": 24,
     "metadata": {},
     "output_type": "execute_result"
    }
   ],
   "source": [
    "%pwd"
   ]
  },
  {
   "cell_type": "code",
   "execution_count": 75,
   "id": "4632a5be",
   "metadata": {},
   "outputs": [],
   "source": [
    "common_voice_train = common_voice_train.cast_column(\"audio\", Audio(sampling_rate=16_000))\n",
    "common_voice_test  = common_voice_test.cast_column(\"audio\", Audio(sampling_rate=16_000))"
   ]
  },
  {
   "cell_type": "code",
   "execution_count": 17,
   "id": "6b679c16",
   "metadata": {},
   "outputs": [
    {
     "data": {
      "text/plain": [
       "Dataset({\n",
       "    features: ['path', 'audio', 'sentence'],\n",
       "    num_rows: 3478\n",
       "})"
      ]
     },
     "execution_count": 17,
     "metadata": {},
     "output_type": "execute_result"
    }
   ],
   "source": [
    "common_voice_train"
   ]
  },
  {
   "cell_type": "code",
   "execution_count": 76,
   "id": "e196547f",
   "metadata": {},
   "outputs": [],
   "source": [
    "def prepare_dataset(batch):\n",
    "    audio = batch[\"audio\"]\n",
    "\n",
    "    # batched output is \"un-batched\"\n",
    "    batch[\"input_values\"] = processor(audio[\"array\"], sampling_rate=audio[\"sampling_rate\"]).input_values[0]\n",
    "    \n",
    "    with processor.as_target_processor():\n",
    "        batch[\"labels\"] = processor(batch[\"sentence\"]).input_ids\n",
    "    return batch"
   ]
  },
  {
   "cell_type": "code",
   "execution_count": 77,
   "id": "bd249f54",
   "metadata": {},
   "outputs": [],
   "source": [
    "common_voice_train = common_voice_train.map(prepare_dataset, remove_columns=common_voice_train.column_names, num_proc=4)\n",
    "common_voice_test = common_voice_test.map(prepare_dataset, remove_columns=common_voice_test.column_names, num_proc=4)"
   ]
  },
  {
   "cell_type": "code",
   "execution_count": 78,
   "id": "65e24078",
   "metadata": {},
   "outputs": [
    {
     "data": {
      "text/plain": [
       "Dataset({\n",
       "    features: ['input_values', 'labels'],\n",
       "    num_rows: 2594\n",
       "})"
      ]
     },
     "execution_count": 78,
     "metadata": {},
     "output_type": "execute_result"
    }
   ],
   "source": [
    "common_voice_train\n"
   ]
  },
  {
   "cell_type": "code",
   "execution_count": 22,
   "id": "4582846c",
   "metadata": {},
   "outputs": [],
   "source": [
    "\n"
   ]
  },
  {
   "cell_type": "code",
   "execution_count": 25,
   "id": "c882796e",
   "metadata": {},
   "outputs": [],
   "source": [
    "aws_access_key_id=data['aws_access_key_id']\n",
    "aws_secret_access_key=data['aws_secret_access_key']\n",
    "s3  = boto3.resource('s3',aws_access_key_id=aws_access_key_id,aws_secret_access_key=aws_secret_access_key)\n",
    "s3c = boto3.client('s3',aws_access_key_id=aws_access_key_id,aws_secret_access_key=aws_secret_access_key)"
   ]
  },
  {
   "cell_type": "code",
   "execution_count": null,
   "id": "c1f92ca4",
   "metadata": {},
   "outputs": [],
   "source": [
    "\n",
    "#from datasets.filesystems import S3FileSystem "
   ]
  },
  {
   "cell_type": "code",
   "execution_count": 44,
   "id": "e932ee37",
   "metadata": {
    "collapsed": true,
    "jupyter": {
     "outputs_hidden": true
    }
   },
   "outputs": [
    {
     "name": "stdout",
     "output_type": "stream",
     "text": [
      "Looking in indexes: https://pypi.org/simple, https://pip.repos.neuron.amazonaws.com\n",
      "Collecting s3fs\n",
      "  Downloading s3fs-2022.1.0-py3-none-any.whl (25 kB)\n",
      "Collecting aiobotocore~=2.1.0\n",
      "  Downloading aiobotocore-2.1.1.tar.gz (57 kB)\n",
      "\u001b[2K     \u001b[90m━━━━━━━━━━━━━━━━━━━━━━━━━━━━━━━━━━━━━━━━\u001b[0m \u001b[32m57.5/57.5 KB\u001b[0m \u001b[31m7.9 MB/s\u001b[0m eta \u001b[36m0:00:00\u001b[0m\n",
      "\u001b[?25h  Preparing metadata (setup.py) ... \u001b[?25ldone\n",
      "\u001b[?25hRequirement already satisfied: fsspec==2022.01.0 in /home/ec2-user/anaconda3/envs/stt/lib/python3.7/site-packages (from s3fs) (2022.1.0)\n",
      "Requirement already satisfied: aiohttp<=4 in /home/ec2-user/anaconda3/envs/stt/lib/python3.7/site-packages (from s3fs) (3.8.1)\n",
      "Collecting botocore<1.23.25,>=1.23.24\n",
      "  Downloading botocore-1.23.24-py3-none-any.whl (8.4 MB)\n",
      "\u001b[2K     \u001b[90m━━━━━━━━━━━━━━━━━━━━━━━━━━━━━━━━━━━━━━━━\u001b[0m \u001b[32m8.4/8.4 MB\u001b[0m \u001b[31m32.5 MB/s\u001b[0m eta \u001b[36m0:00:00\u001b[0m:00:01\u001b[0m00:01\u001b[0m\n",
      "\u001b[?25hCollecting wrapt>=1.10.10\n",
      "  Downloading wrapt-1.13.3-cp37-cp37m-manylinux_2_5_x86_64.manylinux1_x86_64.manylinux_2_12_x86_64.manylinux2010_x86_64.whl (79 kB)\n",
      "\u001b[2K     \u001b[90m━━━━━━━━━━━━━━━━━━━━━━━━━━━━━━━━━━━━━━━━\u001b[0m \u001b[32m79.4/79.4 KB\u001b[0m \u001b[31m26.5 MB/s\u001b[0m eta \u001b[36m0:00:00\u001b[0m\n",
      "\u001b[?25hCollecting aioitertools>=0.5.1\n",
      "  Downloading aioitertools-0.9.0-py3-none-any.whl (22 kB)\n",
      "Requirement already satisfied: frozenlist>=1.1.1 in /home/ec2-user/anaconda3/envs/stt/lib/python3.7/site-packages (from aiohttp<=4->s3fs) (1.3.0)\n",
      "Requirement already satisfied: async-timeout<5.0,>=4.0.0a3 in /home/ec2-user/anaconda3/envs/stt/lib/python3.7/site-packages (from aiohttp<=4->s3fs) (4.0.2)\n",
      "Requirement already satisfied: multidict<7.0,>=4.5 in /home/ec2-user/anaconda3/envs/stt/lib/python3.7/site-packages (from aiohttp<=4->s3fs) (6.0.2)\n",
      "Requirement already satisfied: typing-extensions>=3.7.4 in /home/ec2-user/anaconda3/envs/stt/lib/python3.7/site-packages (from aiohttp<=4->s3fs) (4.1.1)\n",
      "Requirement already satisfied: charset-normalizer<3.0,>=2.0 in /home/ec2-user/anaconda3/envs/stt/lib/python3.7/site-packages (from aiohttp<=4->s3fs) (2.0.12)\n",
      "Requirement already satisfied: yarl<2.0,>=1.0 in /home/ec2-user/anaconda3/envs/stt/lib/python3.7/site-packages (from aiohttp<=4->s3fs) (1.7.2)\n",
      "Requirement already satisfied: asynctest==0.13.0 in /home/ec2-user/anaconda3/envs/stt/lib/python3.7/site-packages (from aiohttp<=4->s3fs) (0.13.0)\n",
      "Requirement already satisfied: attrs>=17.3.0 in /home/ec2-user/anaconda3/envs/stt/lib/python3.7/site-packages (from aiohttp<=4->s3fs) (21.4.0)\n",
      "Requirement already satisfied: aiosignal>=1.1.2 in /home/ec2-user/anaconda3/envs/stt/lib/python3.7/site-packages (from aiohttp<=4->s3fs) (1.2.0)\n",
      "Requirement already satisfied: jmespath<1.0.0,>=0.7.1 in /home/ec2-user/anaconda3/envs/stt/lib/python3.7/site-packages (from botocore<1.23.25,>=1.23.24->aiobotocore~=2.1.0->s3fs) (0.10.0)\n",
      "Requirement already satisfied: python-dateutil<3.0.0,>=2.1 in /home/ec2-user/anaconda3/envs/stt/lib/python3.7/site-packages (from botocore<1.23.25,>=1.23.24->aiobotocore~=2.1.0->s3fs) (2.8.2)\n",
      "Requirement already satisfied: urllib3<1.27,>=1.25.4 in /home/ec2-user/anaconda3/envs/stt/lib/python3.7/site-packages (from botocore<1.23.25,>=1.23.24->aiobotocore~=2.1.0->s3fs) (1.26.8)\n",
      "Requirement already satisfied: idna>=2.0 in /home/ec2-user/anaconda3/envs/stt/lib/python3.7/site-packages (from yarl<2.0,>=1.0->aiohttp<=4->s3fs) (3.3)\n",
      "Requirement already satisfied: six>=1.5 in /home/ec2-user/anaconda3/envs/stt/lib/python3.7/site-packages (from python-dateutil<3.0.0,>=2.1->botocore<1.23.25,>=1.23.24->aiobotocore~=2.1.0->s3fs) (1.16.0)\n",
      "Building wheels for collected packages: aiobotocore\n",
      "  Building wheel for aiobotocore (setup.py) ... \u001b[?25ldone\n",
      "\u001b[?25h  Created wheel for aiobotocore: filename=aiobotocore-2.1.1-py3-none-any.whl size=55483 sha256=bba75f387baccedfbd6e1f48c2e9a5a438ea3a2588aa7bbca3cfa2c78c46c080\n",
      "  Stored in directory: /home/ec2-user/.cache/pip/wheels/52/fd/d3/e85dd95a98c12426ed6864dc24a408c3ca3253d4387b2f1cce\n",
      "Successfully built aiobotocore\n",
      "Installing collected packages: wrapt, aioitertools, botocore, aiobotocore, s3fs\n",
      "  Attempting uninstall: botocore\n",
      "    Found existing installation: botocore 1.24.0\n",
      "    Uninstalling botocore-1.24.0:\n",
      "      Successfully uninstalled botocore-1.24.0\n",
      "\u001b[31mERROR: pip's dependency resolver does not currently take into account all the packages that are installed. This behaviour is the source of the following dependency conflicts.\n",
      "boto3 1.21.0 requires botocore<1.25.0,>=1.24.0, but you have botocore 1.23.24 which is incompatible.\u001b[0m\u001b[31m\n",
      "\u001b[0mSuccessfully installed aiobotocore-2.1.1 aioitertools-0.9.0 botocore-1.23.24 s3fs-2022.1.0 wrapt-1.13.3\n"
     ]
    }
   ],
   "source": []
  },
  {
   "cell_type": "code",
   "execution_count": 26,
   "id": "de89d345",
   "metadata": {},
   "outputs": [],
   "source": []
  },
  {
   "cell_type": "code",
   "execution_count": 28,
   "id": "9f09f223",
   "metadata": {},
   "outputs": [],
   "source": [
    "# key = data['aws_access_key_id']\n",
    "# secret = data['aws_secret_access_key']\n",
    "# s3fsystems = s3fs.S3FileSystem(key=key, secret=secret)  "
   ]
  },
  {
   "cell_type": "code",
   "execution_count": 29,
   "id": "fd1b01af",
   "metadata": {},
   "outputs": [],
   "source": []
  },
  {
   "cell_type": "code",
   "execution_count": 79,
   "id": "0f16ba50",
   "metadata": {},
   "outputs": [],
   "source": [
    "common_voice_train.save_to_disk('s3://commonvoicesdataset/Sloveni/train_set',fs=s3fsystems)"
   ]
  },
  {
   "cell_type": "code",
   "execution_count": 80,
   "id": "f14311e1",
   "metadata": {},
   "outputs": [],
   "source": [
    "common_voice_test.save_to_disk('s3://commonvoicesdataset/Sloveni/test_set',fs=s3fsystems)"
   ]
  },
  {
   "cell_type": "code",
   "execution_count": 32,
   "id": "71f75543",
   "metadata": {},
   "outputs": [
    {
     "data": {
      "text/plain": [
       "Dataset({\n",
       "    features: ['input_values', 'labels'],\n",
       "    num_rows: 1647\n",
       "})"
      ]
     },
     "execution_count": 32,
     "metadata": {},
     "output_type": "execute_result"
    }
   ],
   "source": [
    "common_voice_test"
   ]
  }
 ],
 "metadata": {
  "kernelspec": {
   "display_name": "conda_pytorch_latest_p37",
   "language": "python",
   "name": "conda_pytorch_latest_p37"
  },
  "language_info": {
   "codemirror_mode": {
    "name": "ipython",
    "version": 3
   },
   "file_extension": ".py",
   "mimetype": "text/x-python",
   "name": "python",
   "nbconvert_exporter": "python",
   "pygments_lexer": "ipython3",
   "version": "3.7.12"
  }
 },
 "nbformat": 4,
 "nbformat_minor": 5
}
