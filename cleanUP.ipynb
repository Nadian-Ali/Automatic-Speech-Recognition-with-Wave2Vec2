{
 "cells": [
  {
   "cell_type": "markdown",
   "id": "92b9bb5b",
   "metadata": {},
   "source": [
    "<h1>Run this code if you are done with one language and you want to mode the next languate</h1>"
   ]
  },
  {
   "cell_type": "code",
   "execution_count": 4,
   "id": "e17af9f8",
   "metadata": {},
   "outputs": [
    {
     "name": "stdout",
     "output_type": "stream",
     "text": [
      "/home/ec2-user/SageMaker\n"
     ]
    }
   ],
   "source": [
    "%cd ..\n"
   ]
  },
  {
   "cell_type": "code",
   "execution_count": 6,
   "id": "e1644036",
   "metadata": {},
   "outputs": [],
   "source": [
    "%rm -rf dataset\n"
   ]
  },
  {
   "cell_type": "code",
   "execution_count": 7,
   "id": "e0949c91",
   "metadata": {},
   "outputs": [
    {
     "name": "stdout",
     "output_type": "stream",
     "text": [
      "rm: cannot remove ‘vocab.json’: No such file or directory\n"
     ]
    }
   ],
   "source": [
    "%rm -rf Turkish \n",
    "%rm -rf Turkish3\n",
    "%rm vocab.json"
   ]
  },
  {
   "cell_type": "code",
   "execution_count": 8,
   "id": "a1beffc9",
   "metadata": {},
   "outputs": [
    {
     "name": "stdout",
     "output_type": "stream",
     "text": [
      "/home/ec2-user/SageMaker/STT\n"
     ]
    }
   ],
   "source": [
    "%cd STT"
   ]
  },
  {
   "cell_type": "code",
   "execution_count": 9,
   "id": "75e3db32",
   "metadata": {},
   "outputs": [],
   "source": [
    "%rm -rf Turkish3"
   ]
  },
  {
   "cell_type": "code",
   "execution_count": null,
   "id": "f00d6a78",
   "metadata": {},
   "outputs": [],
   "source": []
  }
 ],
 "metadata": {
  "kernelspec": {
   "display_name": "conda_s2t",
   "language": "python",
   "name": "conda_s2t"
  },
  "language_info": {
   "codemirror_mode": {
    "name": "ipython",
    "version": 3
   },
   "file_extension": ".py",
   "mimetype": "text/x-python",
   "name": "python",
   "nbconvert_exporter": "python",
   "pygments_lexer": "ipython3",
   "version": "3.7.12"
  }
 },
 "nbformat": 4,
 "nbformat_minor": 5
}
