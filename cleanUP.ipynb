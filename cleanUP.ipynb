{
 "cells": [
  {
   "cell_type": "markdown",
   "id": "fb553c19",
   "metadata": {},
   "source": [
    "<h1>Run this code if you are done with one language and you want to mode the next languate</h1>"
   ]
  },
  {
   "cell_type": "code",
   "execution_count": 1,
   "id": "f80e6411",
   "metadata": {},
   "outputs": [
    {
     "data": {
      "text/plain": [
       "'/home/ec2-user/SageMaker/STT'"
      ]
     },
     "execution_count": 1,
     "metadata": {},
     "output_type": "execute_result"
    }
   ],
   "source": [
    "%pwd"
   ]
  },
  {
   "cell_type": "code",
   "execution_count": null,
   "id": "332d7c7e",
   "metadata": {},
   "outputs": [],
   "source": [
    "# %rm -rf dataset\n",
    "%rm Turkish \n",
    "%rm Turkish3\n",
    "%rm vocab.json"
   ]
  }
 ],
 "metadata": {
  "kernelspec": {
   "display_name": "conda_s2t",
   "language": "python",
   "name": "conda_s2t"
  },
  "language_info": {
   "codemirror_mode": {
    "name": "ipython",
    "version": 3
   },
   "file_extension": ".py",
   "mimetype": "text/x-python",
   "name": "python",
   "nbconvert_exporter": "python",
   "pygments_lexer": "ipython3",
   "version": "3.7.12"
  }
 },
 "nbformat": 4,
 "nbformat_minor": 5
}
